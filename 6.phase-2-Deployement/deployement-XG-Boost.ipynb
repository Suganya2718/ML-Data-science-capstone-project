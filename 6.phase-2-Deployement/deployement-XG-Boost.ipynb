{
 "cells": [
  {
   "cell_type": "code",
   "execution_count": 1,
   "id": "e4c11a95-79c3-44f6-90af-aba1c7ccdcf0",
   "metadata": {},
   "outputs": [],
   "source": [
    "import pickle"
   ]
  },
  {
   "cell_type": "code",
   "execution_count": 2,
   "id": "4bd8ed24-31ca-40fc-8e82-865e70e31677",
   "metadata": {},
   "outputs": [],
   "source": [
    "#Load model from .sav \n",
    "with open('finalized_model_xgboost_house_rent_model.sav', 'rb') as file:\n",
    "  loaded_model = pickle.load(file)\n",
    "\n"
   ]
  },
  {
   "cell_type": "code",
   "execution_count": 3,
   "id": "a78f8991-dfbc-49d0-9dee-b4dbadb77be5",
   "metadata": {},
   "outputs": [],
   "source": [
    "#Example input (use real input during actual deployment)\n",
    "# Here we're using a test sample from the dataset (make sure it matches training format)\n",
    "sample_input = [[2, 1100, 1, 0, 0, 0, 0, 1, 0, 0, 0, 0, 1, 0, 1, 0, 1, 2, 4,1]]"
   ]
  },
  {
   "cell_type": "code",
   "execution_count": 4,
   "id": "5380e913-48f5-434c-87b5-cee83d1315bc",
   "metadata": {},
   "outputs": [
    {
     "name": "stdout",
     "output_type": "stream",
     "text": [
      "Predicted Rent: 16507.695\n"
     ]
    }
   ],
   "source": [
    "# Predict\n",
    "predicted_rent = loaded_model.predict(sample_input)\n",
    "print(\"Predicted Rent:\", predicted_rent[0])"
   ]
  },
  {
   "cell_type": "code",
   "execution_count": null,
   "id": "a3e74596-9431-4883-96c8-263e28f0ab83",
   "metadata": {},
   "outputs": [],
   "source": []
  }
 ],
 "metadata": {
  "kernelspec": {
   "display_name": "Python 3 (ipykernel)",
   "language": "python",
   "name": "python3"
  },
  "language_info": {
   "codemirror_mode": {
    "name": "ipython",
    "version": 3
   },
   "file_extension": ".py",
   "mimetype": "text/x-python",
   "name": "python",
   "nbconvert_exporter": "python",
   "pygments_lexer": "ipython3",
   "version": "3.10.15"
  }
 },
 "nbformat": 4,
 "nbformat_minor": 5
}
