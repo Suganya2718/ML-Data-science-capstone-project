{
 "cells": [
  {
   "cell_type": "code",
   "execution_count": 1,
   "id": "a5bb91e1-7a2c-4770-a8bd-89d1e9084dce",
   "metadata": {},
   "outputs": [],
   "source": [
    "import pickle\n",
    "import numpy as np\n",
    "import warnings\n",
    "warnings.filterwarnings(\"ignore\")"
   ]
  },
  {
   "cell_type": "code",
   "execution_count": 2,
   "id": "8990d3ce-9133-4e97-bad8-69eafb848da3",
   "metadata": {},
   "outputs": [],
   "source": [
    "# Load the saved model\n",
    "with open('logistic_model.sav', 'rb') as file:\n",
    "    model = pickle.load(file)"
   ]
  },
  {
   "cell_type": "code",
   "execution_count": 3,
   "id": "0cae89a4-1243-4cd4-8047-c65882673630",
   "metadata": {},
   "outputs": [],
   "source": [
    "# Sample input: must be scaled and match order of training data\n",
    "sample_input = np.array([\n",
    "    [0.650559,1.708927,-0.067365,2,0.511151]\n",
    "])"
   ]
  },
  {
   "cell_type": "code",
   "execution_count": 6,
   "id": "9ae58d92-86d8-40e1-b921-ddd37f545962",
   "metadata": {},
   "outputs": [
    {
     "name": "stdout",
     "output_type": "stream",
     "text": [
      "Predicted Final Grade (encoded): 2\n"
     ]
    }
   ],
   "source": [
    "# Now you can make predictions\n",
    "\n",
    "pred = model.predict(sample_input)\n",
    "print(\"Predicted Final Grade (encoded):\", pred[0])\n"
   ]
  },
  {
   "cell_type": "code",
   "execution_count": 7,
   "id": "6654b99c-da6b-4b45-b2af-634785b00ae8",
   "metadata": {},
   "outputs": [
    {
     "name": "stdout",
     "output_type": "stream",
     "text": [
      "Predicted Grade: C\n"
     ]
    }
   ],
   "source": [
    "grade_map = {0: 'A', 1: 'B', 2: 'C', 3: 'D'}\n",
    "print(\"Predicted Grade:\", grade_map[int(pred[0])])"
   ]
  },
  {
   "cell_type": "code",
   "execution_count": null,
   "id": "4ac4b247-6825-4ef2-bef9-d6fd91048e8b",
   "metadata": {},
   "outputs": [],
   "source": []
  }
 ],
 "metadata": {
  "kernelspec": {
   "display_name": "Python 3 (ipykernel)",
   "language": "python",
   "name": "python3"
  },
  "language_info": {
   "codemirror_mode": {
    "name": "ipython",
    "version": 3
   },
   "file_extension": ".py",
   "mimetype": "text/x-python",
   "name": "python",
   "nbconvert_exporter": "python",
   "pygments_lexer": "ipython3",
   "version": "3.10.15"
  }
 },
 "nbformat": 4,
 "nbformat_minor": 5
}
