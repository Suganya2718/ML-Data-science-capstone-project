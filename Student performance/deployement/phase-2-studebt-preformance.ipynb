{
 "cells": [
  {
   "cell_type": "code",
   "execution_count": 1,
   "id": "a5bb91e1-7a2c-4770-a8bd-89d1e9084dce",
   "metadata": {},
   "outputs": [],
   "source": [
    "import pickle\n",
    "import numpy as np\n",
    "import warnings\n",
    "warnings.filterwarnings(\"ignore\")"
   ]
  },
  {
   "cell_type": "code",
   "execution_count": 2,
   "id": "8a05f7e5-df7e-443b-b5c9-c8bce7804515",
   "metadata": {},
   "outputs": [],
   "source": [
    "# Load the saved model and scaler\n",
    "model = pickle.load(open('logistic_model.sav', 'rb'))\n"
   ]
  },
  {
   "cell_type": "code",
   "execution_count": 3,
   "id": "0cae89a4-1243-4cd4-8047-c65882673630",
   "metadata": {},
   "outputs": [],
   "source": [
    "# Sample input: must be scaled and match order of training data\n",
    "sample_input = np.array([\n",
    "    [-1.582639, 0.0, 1.605127, 0.650559, 1, 1.708927, -0.067365,\n",
    "     -0.616001, 1, 2, -0.657989, 0.511151]\n",
    "])"
   ]
  },
  {
   "cell_type": "code",
   "execution_count": 4,
   "id": "2cbf9684-0ab5-4519-a5f1-43571e28e9be",
   "metadata": {},
   "outputs": [
    {
     "name": "stdout",
     "output_type": "stream",
     "text": [
      "Predicted Final Grade (encoded): 2\n"
     ]
    }
   ],
   "source": [
    "# Predict\n",
    "pred = model.predict(sample_input)\n",
    "print(\"Predicted Final Grade (encoded):\", pred[0])"
   ]
  },
  {
   "cell_type": "code",
   "execution_count": 5,
   "id": "6654b99c-da6b-4b45-b2af-634785b00ae8",
   "metadata": {},
   "outputs": [
    {
     "name": "stdout",
     "output_type": "stream",
     "text": [
      "Predicted Grade: C\n"
     ]
    }
   ],
   "source": [
    "grade_map = {0: 'A', 1: 'B', 2: 'C', 3: 'D'}\n",
    "print(\"Predicted Grade:\", grade_map[int(pred[0])])"
   ]
  },
  {
   "cell_type": "code",
   "execution_count": null,
   "id": "0529fe0a-e340-4758-958e-8adf9dd45194",
   "metadata": {},
   "outputs": [],
   "source": []
  }
 ],
 "metadata": {
  "kernelspec": {
   "display_name": "Python 3 (ipykernel)",
   "language": "python",
   "name": "python3"
  },
  "language_info": {
   "codemirror_mode": {
    "name": "ipython",
    "version": 3
   },
   "file_extension": ".py",
   "mimetype": "text/x-python",
   "name": "python",
   "nbconvert_exporter": "python",
   "pygments_lexer": "ipython3",
   "version": "3.10.15"
  }
 },
 "nbformat": 4,
 "nbformat_minor": 5
}
